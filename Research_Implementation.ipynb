{
  "nbformat": 4,
  "nbformat_minor": 0,
  "metadata": {
    "colab": {
      "provenance": [],
      "mount_file_id": "1_fYaqjSNR8MDTx3Ep-Jnsjc3MduDwqWm",
      "authorship_tag": "ABX9TyNzn3v9iK4M+ig6FfpdEQVA",
      "include_colab_link": true
    },
    "kernelspec": {
      "name": "python3",
      "display_name": "Python 3"
    },
    "language_info": {
      "name": "python"
    }
  },
  "cells": [
    {
      "cell_type": "markdown",
      "metadata": {
        "id": "view-in-github",
        "colab_type": "text"
      },
      "source": [
        "<a href=\"https://colab.research.google.com/github/divyanjali2/mitm_flask_app/blob/frontend-implementation%2Fnavodya/Research_Implementation.ipynb\" target=\"_parent\"><img src=\"https://colab.research.google.com/assets/colab-badge.svg\" alt=\"Open In Colab\"/></a>"
      ]
    },
    {
      "cell_type": "code",
      "execution_count": null,
      "metadata": {
        "colab": {
          "base_uri": "https://localhost:8080/"
        },
        "id": "uWJNLG89D5Q1",
        "outputId": "ce09c117-9f48-4948-daa4-58f6f7b10118"
      },
      "outputs": [
        {
          "output_type": "stream",
          "name": "stdout",
          "text": [
            "Drive already mounted at /content/drive; to attempt to forcibly remount, call drive.mount(\"/content/drive\", force_remount=True).\n"
          ]
        }
      ],
      "source": [
        "from google.colab import drive\n",
        "drive.mount('/content/drive')"
      ]
    },
    {
      "cell_type": "code",
      "source": [
        "import pandas as pd\n",
        "\n",
        "file_path = '/content/drive/MyDrive/Friday-WorkingHours-Afternoon.csv'\n",
        "\n",
        "# Load CSV into DataFrame\n",
        "df = pd.read_csv(file_path)\n",
        "\n",
        "# Preview\n",
        "df.head()"
      ],
      "metadata": {
        "colab": {
          "base_uri": "https://localhost:8080/",
          "height": 463
        },
        "id": "ZgxyrTx2EPA7",
        "outputId": "6e7f1c03-0c7b-4865-fc58-016241861118"
      },
      "execution_count": null,
      "outputs": [
        {
          "output_type": "execute_result",
          "data": {
            "text/plain": [
              "                                   Flow ID       Source IP   Source Port  \\\n",
              "0  192.168.10.5-104.16.207.165-54865-443-6  104.16.207.165           443   \n",
              "1    192.168.10.5-104.16.28.216-55054-80-6   104.16.28.216            80   \n",
              "2    192.168.10.5-104.16.28.216-55055-80-6   104.16.28.216            80   \n",
              "3  192.168.10.16-104.17.241.25-46236-443-6   104.17.241.25           443   \n",
              "4  192.168.10.5-104.19.196.102-54863-443-6  104.19.196.102           443   \n",
              "\n",
              "   Destination IP   Destination Port   Protocol      Timestamp  \\\n",
              "0    192.168.10.5              54865          6  7/7/2017 3:30   \n",
              "1    192.168.10.5              55054          6  7/7/2017 3:30   \n",
              "2    192.168.10.5              55055          6  7/7/2017 3:30   \n",
              "3   192.168.10.16              46236          6  7/7/2017 3:30   \n",
              "4    192.168.10.5              54863          6  7/7/2017 3:30   \n",
              "\n",
              "    Flow Duration   Total Fwd Packets   Total Backward Packets  ...  \\\n",
              "0               3                   2                        0  ...   \n",
              "1             109                   1                        1  ...   \n",
              "2              52                   1                        1  ...   \n",
              "3              34                   1                        1  ...   \n",
              "4               3                   2                        0  ...   \n",
              "\n",
              "    min_seg_size_forward  Active Mean   Active Std   Active Max   Active Min  \\\n",
              "0                     20          0.0          0.0            0            0   \n",
              "1                     20          0.0          0.0            0            0   \n",
              "2                     20          0.0          0.0            0            0   \n",
              "3                     20          0.0          0.0            0            0   \n",
              "4                     20          0.0          0.0            0            0   \n",
              "\n",
              "   Idle Mean   Idle Std   Idle Max   Idle Min   Label  \n",
              "0        0.0        0.0          0          0  BENIGN  \n",
              "1        0.0        0.0          0          0  BENIGN  \n",
              "2        0.0        0.0          0          0  BENIGN  \n",
              "3        0.0        0.0          0          0  BENIGN  \n",
              "4        0.0        0.0          0          0  BENIGN  \n",
              "\n",
              "[5 rows x 85 columns]"
            ],
            "text/html": [
              "\n",
              "  <div id=\"df-b565ede7-5e56-4b63-abf3-8f17d1b87566\" class=\"colab-df-container\">\n",
              "    <div>\n",
              "<style scoped>\n",
              "    .dataframe tbody tr th:only-of-type {\n",
              "        vertical-align: middle;\n",
              "    }\n",
              "\n",
              "    .dataframe tbody tr th {\n",
              "        vertical-align: top;\n",
              "    }\n",
              "\n",
              "    .dataframe thead th {\n",
              "        text-align: right;\n",
              "    }\n",
              "</style>\n",
              "<table border=\"1\" class=\"dataframe\">\n",
              "  <thead>\n",
              "    <tr style=\"text-align: right;\">\n",
              "      <th></th>\n",
              "      <th>Flow ID</th>\n",
              "      <th>Source IP</th>\n",
              "      <th>Source Port</th>\n",
              "      <th>Destination IP</th>\n",
              "      <th>Destination Port</th>\n",
              "      <th>Protocol</th>\n",
              "      <th>Timestamp</th>\n",
              "      <th>Flow Duration</th>\n",
              "      <th>Total Fwd Packets</th>\n",
              "      <th>Total Backward Packets</th>\n",
              "      <th>...</th>\n",
              "      <th>min_seg_size_forward</th>\n",
              "      <th>Active Mean</th>\n",
              "      <th>Active Std</th>\n",
              "      <th>Active Max</th>\n",
              "      <th>Active Min</th>\n",
              "      <th>Idle Mean</th>\n",
              "      <th>Idle Std</th>\n",
              "      <th>Idle Max</th>\n",
              "      <th>Idle Min</th>\n",
              "      <th>Label</th>\n",
              "    </tr>\n",
              "  </thead>\n",
              "  <tbody>\n",
              "    <tr>\n",
              "      <th>0</th>\n",
              "      <td>192.168.10.5-104.16.207.165-54865-443-6</td>\n",
              "      <td>104.16.207.165</td>\n",
              "      <td>443</td>\n",
              "      <td>192.168.10.5</td>\n",
              "      <td>54865</td>\n",
              "      <td>6</td>\n",
              "      <td>7/7/2017 3:30</td>\n",
              "      <td>3</td>\n",
              "      <td>2</td>\n",
              "      <td>0</td>\n",
              "      <td>...</td>\n",
              "      <td>20</td>\n",
              "      <td>0.0</td>\n",
              "      <td>0.0</td>\n",
              "      <td>0</td>\n",
              "      <td>0</td>\n",
              "      <td>0.0</td>\n",
              "      <td>0.0</td>\n",
              "      <td>0</td>\n",
              "      <td>0</td>\n",
              "      <td>BENIGN</td>\n",
              "    </tr>\n",
              "    <tr>\n",
              "      <th>1</th>\n",
              "      <td>192.168.10.5-104.16.28.216-55054-80-6</td>\n",
              "      <td>104.16.28.216</td>\n",
              "      <td>80</td>\n",
              "      <td>192.168.10.5</td>\n",
              "      <td>55054</td>\n",
              "      <td>6</td>\n",
              "      <td>7/7/2017 3:30</td>\n",
              "      <td>109</td>\n",
              "      <td>1</td>\n",
              "      <td>1</td>\n",
              "      <td>...</td>\n",
              "      <td>20</td>\n",
              "      <td>0.0</td>\n",
              "      <td>0.0</td>\n",
              "      <td>0</td>\n",
              "      <td>0</td>\n",
              "      <td>0.0</td>\n",
              "      <td>0.0</td>\n",
              "      <td>0</td>\n",
              "      <td>0</td>\n",
              "      <td>BENIGN</td>\n",
              "    </tr>\n",
              "    <tr>\n",
              "      <th>2</th>\n",
              "      <td>192.168.10.5-104.16.28.216-55055-80-6</td>\n",
              "      <td>104.16.28.216</td>\n",
              "      <td>80</td>\n",
              "      <td>192.168.10.5</td>\n",
              "      <td>55055</td>\n",
              "      <td>6</td>\n",
              "      <td>7/7/2017 3:30</td>\n",
              "      <td>52</td>\n",
              "      <td>1</td>\n",
              "      <td>1</td>\n",
              "      <td>...</td>\n",
              "      <td>20</td>\n",
              "      <td>0.0</td>\n",
              "      <td>0.0</td>\n",
              "      <td>0</td>\n",
              "      <td>0</td>\n",
              "      <td>0.0</td>\n",
              "      <td>0.0</td>\n",
              "      <td>0</td>\n",
              "      <td>0</td>\n",
              "      <td>BENIGN</td>\n",
              "    </tr>\n",
              "    <tr>\n",
              "      <th>3</th>\n",
              "      <td>192.168.10.16-104.17.241.25-46236-443-6</td>\n",
              "      <td>104.17.241.25</td>\n",
              "      <td>443</td>\n",
              "      <td>192.168.10.16</td>\n",
              "      <td>46236</td>\n",
              "      <td>6</td>\n",
              "      <td>7/7/2017 3:30</td>\n",
              "      <td>34</td>\n",
              "      <td>1</td>\n",
              "      <td>1</td>\n",
              "      <td>...</td>\n",
              "      <td>20</td>\n",
              "      <td>0.0</td>\n",
              "      <td>0.0</td>\n",
              "      <td>0</td>\n",
              "      <td>0</td>\n",
              "      <td>0.0</td>\n",
              "      <td>0.0</td>\n",
              "      <td>0</td>\n",
              "      <td>0</td>\n",
              "      <td>BENIGN</td>\n",
              "    </tr>\n",
              "    <tr>\n",
              "      <th>4</th>\n",
              "      <td>192.168.10.5-104.19.196.102-54863-443-6</td>\n",
              "      <td>104.19.196.102</td>\n",
              "      <td>443</td>\n",
              "      <td>192.168.10.5</td>\n",
              "      <td>54863</td>\n",
              "      <td>6</td>\n",
              "      <td>7/7/2017 3:30</td>\n",
              "      <td>3</td>\n",
              "      <td>2</td>\n",
              "      <td>0</td>\n",
              "      <td>...</td>\n",
              "      <td>20</td>\n",
              "      <td>0.0</td>\n",
              "      <td>0.0</td>\n",
              "      <td>0</td>\n",
              "      <td>0</td>\n",
              "      <td>0.0</td>\n",
              "      <td>0.0</td>\n",
              "      <td>0</td>\n",
              "      <td>0</td>\n",
              "      <td>BENIGN</td>\n",
              "    </tr>\n",
              "  </tbody>\n",
              "</table>\n",
              "<p>5 rows × 85 columns</p>\n",
              "</div>\n",
              "    <div class=\"colab-df-buttons\">\n",
              "\n",
              "  <div class=\"colab-df-container\">\n",
              "    <button class=\"colab-df-convert\" onclick=\"convertToInteractive('df-b565ede7-5e56-4b63-abf3-8f17d1b87566')\"\n",
              "            title=\"Convert this dataframe to an interactive table.\"\n",
              "            style=\"display:none;\">\n",
              "\n",
              "  <svg xmlns=\"http://www.w3.org/2000/svg\" height=\"24px\" viewBox=\"0 -960 960 960\">\n",
              "    <path d=\"M120-120v-720h720v720H120Zm60-500h600v-160H180v160Zm220 220h160v-160H400v160Zm0 220h160v-160H400v160ZM180-400h160v-160H180v160Zm440 0h160v-160H620v160ZM180-180h160v-160H180v160Zm440 0h160v-160H620v160Z\"/>\n",
              "  </svg>\n",
              "    </button>\n",
              "\n",
              "  <style>\n",
              "    .colab-df-container {\n",
              "      display:flex;\n",
              "      gap: 12px;\n",
              "    }\n",
              "\n",
              "    .colab-df-convert {\n",
              "      background-color: #E8F0FE;\n",
              "      border: none;\n",
              "      border-radius: 50%;\n",
              "      cursor: pointer;\n",
              "      display: none;\n",
              "      fill: #1967D2;\n",
              "      height: 32px;\n",
              "      padding: 0 0 0 0;\n",
              "      width: 32px;\n",
              "    }\n",
              "\n",
              "    .colab-df-convert:hover {\n",
              "      background-color: #E2EBFA;\n",
              "      box-shadow: 0px 1px 2px rgba(60, 64, 67, 0.3), 0px 1px 3px 1px rgba(60, 64, 67, 0.15);\n",
              "      fill: #174EA6;\n",
              "    }\n",
              "\n",
              "    .colab-df-buttons div {\n",
              "      margin-bottom: 4px;\n",
              "    }\n",
              "\n",
              "    [theme=dark] .colab-df-convert {\n",
              "      background-color: #3B4455;\n",
              "      fill: #D2E3FC;\n",
              "    }\n",
              "\n",
              "    [theme=dark] .colab-df-convert:hover {\n",
              "      background-color: #434B5C;\n",
              "      box-shadow: 0px 1px 3px 1px rgba(0, 0, 0, 0.15);\n",
              "      filter: drop-shadow(0px 1px 2px rgba(0, 0, 0, 0.3));\n",
              "      fill: #FFFFFF;\n",
              "    }\n",
              "  </style>\n",
              "\n",
              "    <script>\n",
              "      const buttonEl =\n",
              "        document.querySelector('#df-b565ede7-5e56-4b63-abf3-8f17d1b87566 button.colab-df-convert');\n",
              "      buttonEl.style.display =\n",
              "        google.colab.kernel.accessAllowed ? 'block' : 'none';\n",
              "\n",
              "      async function convertToInteractive(key) {\n",
              "        const element = document.querySelector('#df-b565ede7-5e56-4b63-abf3-8f17d1b87566');\n",
              "        const dataTable =\n",
              "          await google.colab.kernel.invokeFunction('convertToInteractive',\n",
              "                                                    [key], {});\n",
              "        if (!dataTable) return;\n",
              "\n",
              "        const docLinkHtml = 'Like what you see? Visit the ' +\n",
              "          '<a target=\"_blank\" href=https://colab.research.google.com/notebooks/data_table.ipynb>data table notebook</a>'\n",
              "          + ' to learn more about interactive tables.';\n",
              "        element.innerHTML = '';\n",
              "        dataTable['output_type'] = 'display_data';\n",
              "        await google.colab.output.renderOutput(dataTable, element);\n",
              "        const docLink = document.createElement('div');\n",
              "        docLink.innerHTML = docLinkHtml;\n",
              "        element.appendChild(docLink);\n",
              "      }\n",
              "    </script>\n",
              "  </div>\n",
              "\n",
              "\n",
              "    <div id=\"df-5ca6a0ba-609d-47fe-8fff-105096677e3b\">\n",
              "      <button class=\"colab-df-quickchart\" onclick=\"quickchart('df-5ca6a0ba-609d-47fe-8fff-105096677e3b')\"\n",
              "                title=\"Suggest charts\"\n",
              "                style=\"display:none;\">\n",
              "\n",
              "<svg xmlns=\"http://www.w3.org/2000/svg\" height=\"24px\"viewBox=\"0 0 24 24\"\n",
              "     width=\"24px\">\n",
              "    <g>\n",
              "        <path d=\"M19 3H5c-1.1 0-2 .9-2 2v14c0 1.1.9 2 2 2h14c1.1 0 2-.9 2-2V5c0-1.1-.9-2-2-2zM9 17H7v-7h2v7zm4 0h-2V7h2v10zm4 0h-2v-4h2v4z\"/>\n",
              "    </g>\n",
              "</svg>\n",
              "      </button>\n",
              "\n",
              "<style>\n",
              "  .colab-df-quickchart {\n",
              "      --bg-color: #E8F0FE;\n",
              "      --fill-color: #1967D2;\n",
              "      --hover-bg-color: #E2EBFA;\n",
              "      --hover-fill-color: #174EA6;\n",
              "      --disabled-fill-color: #AAA;\n",
              "      --disabled-bg-color: #DDD;\n",
              "  }\n",
              "\n",
              "  [theme=dark] .colab-df-quickchart {\n",
              "      --bg-color: #3B4455;\n",
              "      --fill-color: #D2E3FC;\n",
              "      --hover-bg-color: #434B5C;\n",
              "      --hover-fill-color: #FFFFFF;\n",
              "      --disabled-bg-color: #3B4455;\n",
              "      --disabled-fill-color: #666;\n",
              "  }\n",
              "\n",
              "  .colab-df-quickchart {\n",
              "    background-color: var(--bg-color);\n",
              "    border: none;\n",
              "    border-radius: 50%;\n",
              "    cursor: pointer;\n",
              "    display: none;\n",
              "    fill: var(--fill-color);\n",
              "    height: 32px;\n",
              "    padding: 0;\n",
              "    width: 32px;\n",
              "  }\n",
              "\n",
              "  .colab-df-quickchart:hover {\n",
              "    background-color: var(--hover-bg-color);\n",
              "    box-shadow: 0 1px 2px rgba(60, 64, 67, 0.3), 0 1px 3px 1px rgba(60, 64, 67, 0.15);\n",
              "    fill: var(--button-hover-fill-color);\n",
              "  }\n",
              "\n",
              "  .colab-df-quickchart-complete:disabled,\n",
              "  .colab-df-quickchart-complete:disabled:hover {\n",
              "    background-color: var(--disabled-bg-color);\n",
              "    fill: var(--disabled-fill-color);\n",
              "    box-shadow: none;\n",
              "  }\n",
              "\n",
              "  .colab-df-spinner {\n",
              "    border: 2px solid var(--fill-color);\n",
              "    border-color: transparent;\n",
              "    border-bottom-color: var(--fill-color);\n",
              "    animation:\n",
              "      spin 1s steps(1) infinite;\n",
              "  }\n",
              "\n",
              "  @keyframes spin {\n",
              "    0% {\n",
              "      border-color: transparent;\n",
              "      border-bottom-color: var(--fill-color);\n",
              "      border-left-color: var(--fill-color);\n",
              "    }\n",
              "    20% {\n",
              "      border-color: transparent;\n",
              "      border-left-color: var(--fill-color);\n",
              "      border-top-color: var(--fill-color);\n",
              "    }\n",
              "    30% {\n",
              "      border-color: transparent;\n",
              "      border-left-color: var(--fill-color);\n",
              "      border-top-color: var(--fill-color);\n",
              "      border-right-color: var(--fill-color);\n",
              "    }\n",
              "    40% {\n",
              "      border-color: transparent;\n",
              "      border-right-color: var(--fill-color);\n",
              "      border-top-color: var(--fill-color);\n",
              "    }\n",
              "    60% {\n",
              "      border-color: transparent;\n",
              "      border-right-color: var(--fill-color);\n",
              "    }\n",
              "    80% {\n",
              "      border-color: transparent;\n",
              "      border-right-color: var(--fill-color);\n",
              "      border-bottom-color: var(--fill-color);\n",
              "    }\n",
              "    90% {\n",
              "      border-color: transparent;\n",
              "      border-bottom-color: var(--fill-color);\n",
              "    }\n",
              "  }\n",
              "</style>\n",
              "\n",
              "      <script>\n",
              "        async function quickchart(key) {\n",
              "          const quickchartButtonEl =\n",
              "            document.querySelector('#' + key + ' button');\n",
              "          quickchartButtonEl.disabled = true;  // To prevent multiple clicks.\n",
              "          quickchartButtonEl.classList.add('colab-df-spinner');\n",
              "          try {\n",
              "            const charts = await google.colab.kernel.invokeFunction(\n",
              "                'suggestCharts', [key], {});\n",
              "          } catch (error) {\n",
              "            console.error('Error during call to suggestCharts:', error);\n",
              "          }\n",
              "          quickchartButtonEl.classList.remove('colab-df-spinner');\n",
              "          quickchartButtonEl.classList.add('colab-df-quickchart-complete');\n",
              "        }\n",
              "        (() => {\n",
              "          let quickchartButtonEl =\n",
              "            document.querySelector('#df-5ca6a0ba-609d-47fe-8fff-105096677e3b button');\n",
              "          quickchartButtonEl.style.display =\n",
              "            google.colab.kernel.accessAllowed ? 'block' : 'none';\n",
              "        })();\n",
              "      </script>\n",
              "    </div>\n",
              "\n",
              "    </div>\n",
              "  </div>\n"
            ],
            "application/vnd.google.colaboratory.intrinsic+json": {
              "type": "dataframe",
              "variable_name": "df"
            }
          },
          "metadata": {},
          "execution_count": 2
        }
      ]
    },
    {
      "cell_type": "code",
      "source": [
        "#Check for row and columns\n",
        "print(df.shape)"
      ],
      "metadata": {
        "colab": {
          "base_uri": "https://localhost:8080/"
        },
        "id": "cDkbdEnDDipP",
        "outputId": "e7e77c66-fe75-496c-c955-c25e893d4e33"
      },
      "execution_count": null,
      "outputs": [
        {
          "output_type": "stream",
          "name": "stdout",
          "text": [
            "(225745, 85)\n"
          ]
        }
      ]
    },
    {
      "cell_type": "code",
      "source": [
        "# Confirm headers\n",
        "print(df.columns)"
      ],
      "metadata": {
        "colab": {
          "base_uri": "https://localhost:8080/"
        },
        "id": "bSFEI1NLDnLE",
        "outputId": "12985d8e-2375-49f3-dabe-0b322fd51c77"
      },
      "execution_count": null,
      "outputs": [
        {
          "output_type": "stream",
          "name": "stdout",
          "text": [
            "Index(['Flow ID', ' Source IP', ' Source Port', ' Destination IP',\n",
            "       ' Destination Port', ' Protocol', ' Timestamp', ' Flow Duration',\n",
            "       ' Total Fwd Packets', ' Total Backward Packets',\n",
            "       'Total Length of Fwd Packets', ' Total Length of Bwd Packets',\n",
            "       ' Fwd Packet Length Max', ' Fwd Packet Length Min',\n",
            "       ' Fwd Packet Length Mean', ' Fwd Packet Length Std',\n",
            "       'Bwd Packet Length Max', ' Bwd Packet Length Min',\n",
            "       ' Bwd Packet Length Mean', ' Bwd Packet Length Std', 'Flow Bytes/s',\n",
            "       ' Flow Packets/s', ' Flow IAT Mean', ' Flow IAT Std', ' Flow IAT Max',\n",
            "       ' Flow IAT Min', 'Fwd IAT Total', ' Fwd IAT Mean', ' Fwd IAT Std',\n",
            "       ' Fwd IAT Max', ' Fwd IAT Min', 'Bwd IAT Total', ' Bwd IAT Mean',\n",
            "       ' Bwd IAT Std', ' Bwd IAT Max', ' Bwd IAT Min', 'Fwd PSH Flags',\n",
            "       ' Bwd PSH Flags', ' Fwd URG Flags', ' Bwd URG Flags',\n",
            "       ' Fwd Header Length', ' Bwd Header Length', 'Fwd Packets/s',\n",
            "       ' Bwd Packets/s', ' Min Packet Length', ' Max Packet Length',\n",
            "       ' Packet Length Mean', ' Packet Length Std', ' Packet Length Variance',\n",
            "       'FIN Flag Count', ' SYN Flag Count', ' RST Flag Count',\n",
            "       ' PSH Flag Count', ' ACK Flag Count', ' URG Flag Count',\n",
            "       ' CWE Flag Count', ' ECE Flag Count', ' Down/Up Ratio',\n",
            "       ' Average Packet Size', ' Avg Fwd Segment Size',\n",
            "       ' Avg Bwd Segment Size', ' Fwd Header Length.1', 'Fwd Avg Bytes/Bulk',\n",
            "       ' Fwd Avg Packets/Bulk', ' Fwd Avg Bulk Rate', ' Bwd Avg Bytes/Bulk',\n",
            "       ' Bwd Avg Packets/Bulk', 'Bwd Avg Bulk Rate', 'Subflow Fwd Packets',\n",
            "       ' Subflow Fwd Bytes', ' Subflow Bwd Packets', ' Subflow Bwd Bytes',\n",
            "       'Init_Win_bytes_forward', ' Init_Win_bytes_backward',\n",
            "       ' act_data_pkt_fwd', ' min_seg_size_forward', 'Active Mean',\n",
            "       ' Active Std', ' Active Max', ' Active Min', 'Idle Mean', ' Idle Std',\n",
            "       ' Idle Max', ' Idle Min', ' Label'],\n",
            "      dtype='object')\n"
          ]
        }
      ]
    },
    {
      "cell_type": "code",
      "source": [
        "# Check data types\n",
        "df.info()"
      ],
      "metadata": {
        "colab": {
          "base_uri": "https://localhost:8080/"
        },
        "id": "PG08bxw9EcB1",
        "outputId": "b2e58414-cf51-427c-b884-4357d6d405ca"
      },
      "execution_count": null,
      "outputs": [
        {
          "output_type": "stream",
          "name": "stdout",
          "text": [
            "<class 'pandas.core.frame.DataFrame'>\n",
            "RangeIndex: 225745 entries, 0 to 225744\n",
            "Data columns (total 85 columns):\n",
            " #   Column                        Non-Null Count   Dtype  \n",
            "---  ------                        --------------   -----  \n",
            " 0   Flow ID                       225745 non-null  object \n",
            " 1    Source IP                    225745 non-null  object \n",
            " 2    Source Port                  225745 non-null  int64  \n",
            " 3    Destination IP               225745 non-null  object \n",
            " 4    Destination Port             225745 non-null  int64  \n",
            " 5    Protocol                     225745 non-null  int64  \n",
            " 6    Timestamp                    225745 non-null  object \n",
            " 7    Flow Duration                225745 non-null  int64  \n",
            " 8    Total Fwd Packets            225745 non-null  int64  \n",
            " 9    Total Backward Packets       225745 non-null  int64  \n",
            " 10  Total Length of Fwd Packets   225745 non-null  int64  \n",
            " 11   Total Length of Bwd Packets  225745 non-null  int64  \n",
            " 12   Fwd Packet Length Max        225745 non-null  int64  \n",
            " 13   Fwd Packet Length Min        225745 non-null  int64  \n",
            " 14   Fwd Packet Length Mean       225745 non-null  float64\n",
            " 15   Fwd Packet Length Std        225745 non-null  float64\n",
            " 16  Bwd Packet Length Max         225745 non-null  int64  \n",
            " 17   Bwd Packet Length Min        225745 non-null  int64  \n",
            " 18   Bwd Packet Length Mean       225745 non-null  float64\n",
            " 19   Bwd Packet Length Std        225745 non-null  float64\n",
            " 20  Flow Bytes/s                  225741 non-null  float64\n",
            " 21   Flow Packets/s               225745 non-null  float64\n",
            " 22   Flow IAT Mean                225745 non-null  float64\n",
            " 23   Flow IAT Std                 225745 non-null  float64\n",
            " 24   Flow IAT Max                 225745 non-null  int64  \n",
            " 25   Flow IAT Min                 225745 non-null  int64  \n",
            " 26  Fwd IAT Total                 225745 non-null  int64  \n",
            " 27   Fwd IAT Mean                 225745 non-null  float64\n",
            " 28   Fwd IAT Std                  225745 non-null  float64\n",
            " 29   Fwd IAT Max                  225745 non-null  int64  \n",
            " 30   Fwd IAT Min                  225745 non-null  int64  \n",
            " 31  Bwd IAT Total                 225745 non-null  int64  \n",
            " 32   Bwd IAT Mean                 225745 non-null  float64\n",
            " 33   Bwd IAT Std                  225745 non-null  float64\n",
            " 34   Bwd IAT Max                  225745 non-null  int64  \n",
            " 35   Bwd IAT Min                  225745 non-null  int64  \n",
            " 36  Fwd PSH Flags                 225745 non-null  int64  \n",
            " 37   Bwd PSH Flags                225745 non-null  int64  \n",
            " 38   Fwd URG Flags                225745 non-null  int64  \n",
            " 39   Bwd URG Flags                225745 non-null  int64  \n",
            " 40   Fwd Header Length            225745 non-null  int64  \n",
            " 41   Bwd Header Length            225745 non-null  int64  \n",
            " 42  Fwd Packets/s                 225745 non-null  float64\n",
            " 43   Bwd Packets/s                225745 non-null  float64\n",
            " 44   Min Packet Length            225745 non-null  int64  \n",
            " 45   Max Packet Length            225745 non-null  int64  \n",
            " 46   Packet Length Mean           225745 non-null  float64\n",
            " 47   Packet Length Std            225745 non-null  float64\n",
            " 48   Packet Length Variance       225745 non-null  float64\n",
            " 49  FIN Flag Count                225745 non-null  int64  \n",
            " 50   SYN Flag Count               225745 non-null  int64  \n",
            " 51   RST Flag Count               225745 non-null  int64  \n",
            " 52   PSH Flag Count               225745 non-null  int64  \n",
            " 53   ACK Flag Count               225745 non-null  int64  \n",
            " 54   URG Flag Count               225745 non-null  int64  \n",
            " 55   CWE Flag Count               225745 non-null  int64  \n",
            " 56   ECE Flag Count               225745 non-null  int64  \n",
            " 57   Down/Up Ratio                225745 non-null  int64  \n",
            " 58   Average Packet Size          225745 non-null  float64\n",
            " 59   Avg Fwd Segment Size         225745 non-null  float64\n",
            " 60   Avg Bwd Segment Size         225745 non-null  float64\n",
            " 61   Fwd Header Length.1          225745 non-null  int64  \n",
            " 62  Fwd Avg Bytes/Bulk            225745 non-null  int64  \n",
            " 63   Fwd Avg Packets/Bulk         225745 non-null  int64  \n",
            " 64   Fwd Avg Bulk Rate            225745 non-null  int64  \n",
            " 65   Bwd Avg Bytes/Bulk           225745 non-null  int64  \n",
            " 66   Bwd Avg Packets/Bulk         225745 non-null  int64  \n",
            " 67  Bwd Avg Bulk Rate             225745 non-null  int64  \n",
            " 68  Subflow Fwd Packets           225745 non-null  int64  \n",
            " 69   Subflow Fwd Bytes            225745 non-null  int64  \n",
            " 70   Subflow Bwd Packets          225745 non-null  int64  \n",
            " 71   Subflow Bwd Bytes            225745 non-null  int64  \n",
            " 72  Init_Win_bytes_forward        225745 non-null  int64  \n",
            " 73   Init_Win_bytes_backward      225745 non-null  int64  \n",
            " 74   act_data_pkt_fwd             225745 non-null  int64  \n",
            " 75   min_seg_size_forward         225745 non-null  int64  \n",
            " 76  Active Mean                   225745 non-null  float64\n",
            " 77   Active Std                   225745 non-null  float64\n",
            " 78   Active Max                   225745 non-null  int64  \n",
            " 79   Active Min                   225745 non-null  int64  \n",
            " 80  Idle Mean                     225745 non-null  float64\n",
            " 81   Idle Std                     225745 non-null  float64\n",
            " 82   Idle Max                     225745 non-null  int64  \n",
            " 83   Idle Min                     225745 non-null  int64  \n",
            " 84   Label                        225745 non-null  object \n",
            "dtypes: float64(24), int64(56), object(5)\n",
            "memory usage: 146.4+ MB\n"
          ]
        }
      ]
    },
    {
      "cell_type": "code",
      "source": [
        " # Check class balance\n",
        "df[' Label'].value_counts()"
      ],
      "metadata": {
        "colab": {
          "base_uri": "https://localhost:8080/",
          "height": 178
        },
        "id": "-F7CFXXHEDhZ",
        "outputId": "e69b2cf3-eee4-48cf-a448-e6285cc771b3"
      },
      "execution_count": null,
      "outputs": [
        {
          "output_type": "execute_result",
          "data": {
            "text/plain": [
              " Label\n",
              "MITM      128027\n",
              "BENIGN     97718\n",
              "Name: count, dtype: int64"
            ],
            "text/html": [
              "<div>\n",
              "<style scoped>\n",
              "    .dataframe tbody tr th:only-of-type {\n",
              "        vertical-align: middle;\n",
              "    }\n",
              "\n",
              "    .dataframe tbody tr th {\n",
              "        vertical-align: top;\n",
              "    }\n",
              "\n",
              "    .dataframe thead th {\n",
              "        text-align: right;\n",
              "    }\n",
              "</style>\n",
              "<table border=\"1\" class=\"dataframe\">\n",
              "  <thead>\n",
              "    <tr style=\"text-align: right;\">\n",
              "      <th></th>\n",
              "      <th>count</th>\n",
              "    </tr>\n",
              "    <tr>\n",
              "      <th>Label</th>\n",
              "      <th></th>\n",
              "    </tr>\n",
              "  </thead>\n",
              "  <tbody>\n",
              "    <tr>\n",
              "      <th>MITM</th>\n",
              "      <td>128027</td>\n",
              "    </tr>\n",
              "    <tr>\n",
              "      <th>BENIGN</th>\n",
              "      <td>97718</td>\n",
              "    </tr>\n",
              "  </tbody>\n",
              "</table>\n",
              "</div><br><label><b>dtype:</b> int64</label>"
            ]
          },
          "metadata": {},
          "execution_count": 6
        }
      ]
    },
    {
      "cell_type": "code",
      "source": [
        "df[' Label'] = df[' Label'].map({'BENIGN': 0, 'MITM': 1})"
      ],
      "metadata": {
        "id": "wTTa00nmEyG0"
      },
      "execution_count": null,
      "outputs": []
    },
    {
      "cell_type": "code",
      "source": [
        "print(df[' Label'].unique())"
      ],
      "metadata": {
        "colab": {
          "base_uri": "https://localhost:8080/"
        },
        "id": "uPtqlP5SE2Ko",
        "outputId": "09a901ce-8548-4d75-b235-0a6cdf90aef1"
      },
      "execution_count": null,
      "outputs": [
        {
          "output_type": "stream",
          "name": "stdout",
          "text": [
            "[0 1]\n"
          ]
        }
      ]
    },
    {
      "cell_type": "code",
      "source": [
        "print(df[' Label'].value_counts())"
      ],
      "metadata": {
        "colab": {
          "base_uri": "https://localhost:8080/"
        },
        "id": "UqBlBBMIE9_3",
        "outputId": "be988358-5020-4c98-9dc6-f1c9bb574104"
      },
      "execution_count": null,
      "outputs": [
        {
          "output_type": "stream",
          "name": "stdout",
          "text": [
            " Label\n",
            "1    128027\n",
            "0     97718\n",
            "Name: count, dtype: int64\n"
          ]
        }
      ]
    },
    {
      "cell_type": "code",
      "source": [
        "import matplotlib.pyplot as plt\n",
        "\n",
        "df.columns = df.columns.str.strip()\n",
        "\n",
        "# Count label values\n",
        "label_counts = df['Label'].value_counts().sort_index()\n",
        "\n",
        "# Plot\n",
        "plt.figure(figsize=(6, 4))\n",
        "label_counts.plot(kind='bar', color=['skyblue', 'salmon'])\n",
        "\n",
        "# Labels and title\n",
        "plt.title('Label Distribution Before Balancing', pad=20)\n",
        "plt.xlabel('Label')\n",
        "plt.ylabel('Number of Records')\n",
        "plt.xticks(ticks=[0, 1], labels=['No Attack (0)', 'Attack (1)'], rotation=0)\n",
        "plt.grid(axis='y', linestyle='--', alpha=0.7)\n",
        "\n",
        "# Show value on top of each bar\n",
        "for i, val in enumerate(label_counts):\n",
        "    plt.text(i, val + 1000, str(val), ha='center')\n",
        "\n",
        "plt.tight_layout()\n",
        "plt.show()\n"
      ],
      "metadata": {
        "colab": {
          "base_uri": "https://localhost:8080/",
          "height": 407
        },
        "id": "2eydhUxuHI_B",
        "outputId": "de9033c8-53c5-4c95-ce78-d9dd39bdd5c3"
      },
      "execution_count": null,
      "outputs": [
        {
          "output_type": "display_data",
          "data": {
            "text/plain": [
              "<Figure size 600x400 with 1 Axes>"
            ],
            "image/png": "[encoded data removed]"
          },
          "metadata": {}
        }
      ]
    },
    {
      "cell_type": "code",
      "source": [
        "from sklearn.utils import resample\n",
        "\n",
        "# Separate majority and minority classes\n",
        "df_attack = df[df[' Label'] == 1]\n",
        "df_normal = df[df[' Label'] == 0]\n",
        "\n",
        "# Downsample the majority class (attacks)\n",
        "df_attack_downsampled = resample(df_attack,\n",
        "                                 replace=False,\n",
        "                                 n_samples=len(df_normal),\n",
        "                                 random_state=42)\n",
        "\n",
        "# Combine balanced classes\n",
        "df_balanced = pd.concat([df_normal, df_attack_downsampled])"
      ],
      "metadata": {
        "id": "HW6ltEAlFrrB"
      },
      "execution_count": null,
      "outputs": []
    },
    {
      "cell_type": "code",
      "source": [
        "df_balanced[' Label'].value_counts()"
      ],
      "metadata": {
        "colab": {
          "base_uri": "https://localhost:8080/",
          "height": 178
        },
        "id": "VxG06MEWFw2d",
        "outputId": "599c658f-3262-4dfe-d987-bdb1d50b251d"
      },
      "execution_count": null,
      "outputs": [
        {
          "output_type": "execute_result",
          "data": {
            "text/plain": [
              " Label\n",
              "0    97718\n",
              "1    97718\n",
              "Name: count, dtype: int64"
            ],
            "text/html": [
              "<div>\n",
              "<style scoped>\n",
              "    .dataframe tbody tr th:only-of-type {\n",
              "        vertical-align: middle;\n",
              "    }\n",
              "\n",
              "    .dataframe tbody tr th {\n",
              "        vertical-align: top;\n",
              "    }\n",
              "\n",
              "    .dataframe thead th {\n",
              "        text-align: right;\n",
              "    }\n",
              "</style>\n",
              "<table border=\"1\" class=\"dataframe\">\n",
              "  <thead>\n",
              "    <tr style=\"text-align: right;\">\n",
              "      <th></th>\n",
              "      <th>count</th>\n",
              "    </tr>\n",
              "    <tr>\n",
              "      <th>Label</th>\n",
              "      <th></th>\n",
              "    </tr>\n",
              "  </thead>\n",
              "  <tbody>\n",
              "    <tr>\n",
              "      <th>0</th>\n",
              "      <td>97718</td>\n",
              "    </tr>\n",
              "    <tr>\n",
              "      <th>1</th>\n",
              "      <td>97718</td>\n",
              "    </tr>\n",
              "  </tbody>\n",
              "</table>\n",
              "</div><br><label><b>dtype:</b> int64</label>"
            ]
          },
          "metadata": {},
          "execution_count": 27
        }
      ]
    },
    {
      "cell_type": "code",
      "source": [
        "import pandas as pd\n",
        "import matplotlib.pyplot as plt\n",
        "\n",
        "label_counts = df_balanced[' Label'].value_counts()\n",
        "\n",
        "# Plotting\n",
        "plt.figure(figsize=(6,4))\n",
        "label_counts.plot(kind='bar', color=['skyblue', 'salmon'])\n",
        "\n",
        "# Axis labeling\n",
        "plt.title('Label Distribution After Balancing', pad=20)\n",
        "plt.xlabel('Label')\n",
        "plt.ylabel('Number of Records')\n",
        "plt.xticks(ticks=[0, 1], labels=['No Attack (0)', 'Attack (1)'], rotation=0)\n",
        "plt.grid(axis='y', linestyle='--', alpha=0.7)\n",
        "\n",
        "for i, val in enumerate(label_counts):\n",
        "    plt.text(i, val + 500, str(val), ha='center')\n",
        "\n",
        "plt.tight_layout()\n",
        "plt.show()"
      ],
      "metadata": {
        "colab": {
          "base_uri": "https://localhost:8080/",
          "height": 407
        },
        "id": "pRFBDukbGa2h",
        "outputId": "b2257251-e658-4664-9dfc-45d35d030d75"
      },
      "execution_count": null,
      "outputs": [
        {
          "output_type": "display_data",
          "data": {
            "text/plain": [
              "<Figure size 600x400 with 1 Axes>"
            ],
            "image/png": "[encoded data removed]"
          },
          "metadata": {}
        }
      ]
    }
  ]
}